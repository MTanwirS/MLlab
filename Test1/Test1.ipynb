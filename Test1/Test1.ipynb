{
  "nbformat": 4,
  "nbformat_minor": 0,
  "metadata": {
    "colab": {
      "name": "ML.ipynb",
      "provenance": [],
      "collapsed_sections": [
        "f4ZIwZjnLF6U",
        "nPrZKSUzRY_O",
        "WBrNdbVRYrTu",
        "stuX6dwnX-bZ",
        "aohVzft9bA5P"
      ],
      "toc_visible": true
    },
    "kernelspec": {
      "name": "python3",
      "display_name": "Python 3"
    },
    "language_info": {
      "name": "python"
    }
  },
  "cells": [
    {
      "cell_type": "code",
      "metadata": {
        "colab": {
          "base_uri": "https://localhost:8080/"
        },
        "id": "NHZLeErDfp9r",
        "outputId": "60ab92f6-d189-4197-87cf-6d58d49dced3"
      },
      "source": [
        "!pip install bayespy\n",
        "\n",
        "import pandas as pd\n",
        "import bayespy as bp\n",
        "import numpy as np\n",
        "import csv\n",
        "!pip3 install colorama\n",
        "!pip3 install colorama\n",
        "from colorama import init\n",
        "from colorama import Fore, Back, Style\n",
        "init()\n",
        "\n",
        "# Define Parameter Enum values\n",
        "# Age\n",
        "ageEnum = {'SuperSeniorCitizen': 0, 'SeniorCitizen': 1,\n",
        "           'MiddleAged': 2, 'Youth': 3, 'Teen': 4}\n",
        "# Gender\n",
        "genderEnum = {'Male': 0, 'Female': 1}\n",
        "# FamilyHistory\n",
        "familyHistoryEnum = {'Yes': 0, 'No': 1}\n",
        "# Diet(Calorie Intake)\n",
        "dietEnum = {'High': 0, 'Medium': 1, 'Low': 2}\n",
        "# LifeStyle\n",
        "lifeStyleEnum = {'Athlete': 0, 'Active': 1, 'Moderate': 2, 'Sedetary': 3}\n",
        "# Cholesterol\n",
        "cholesterolEnum = {'High': 0, 'BorderLine': 1, 'Normal': 2}\n",
        "# HeartDisease\n",
        "heartDiseaseEnum = {'Yes': 0, 'No': 1}\n",
        "\n",
        "data = pd.read_csv(\"image.csv\")\n",
        "\n",
        "data =np.array(data, dtype='int8')\n",
        "N = len(data)\n",
        "\n",
        "# Input data column assignment\n",
        "p_age = bp.nodes.Dirichlet(1.0*np.ones(5))\n",
        "age = bp.nodes.Categorical(p_age, plates=(N,))\n",
        "age.observe(data[:, 0])\n",
        "\n",
        "p_gender = bp.nodes.Dirichlet(1.0*np.ones(2))\n",
        "gender = bp.nodes.Categorical(p_gender, plates=(N,))\n",
        "gender.observe(data[:, 1])\n",
        "\n",
        "p_familyhistory = bp.nodes.Dirichlet(1.0*np.ones(2))\n",
        "familyhistory = bp.nodes.Categorical(p_familyhistory, plates=(N,))\n",
        "familyhistory.observe(data[:, 2])\n",
        "\n",
        "p_diet = bp.nodes.Dirichlet(1.0*np.ones(3))\n",
        "diet = bp.nodes.Categorical(p_diet, plates=(N,))\n",
        "diet.observe(data[:, 3])\n",
        "\n",
        "p_lifestyle = bp.nodes.Dirichlet(1.0*np.ones(4))\n",
        "lifestyle = bp.nodes.Categorical(p_lifestyle, plates=(N,))\n",
        "lifestyle.observe(data[:, 4])\n",
        "\n",
        "p_cholesterol = bp.nodes.Dirichlet(1.0*np.ones(3))\n",
        "cholesterol = bp.nodes.Categorical(p_cholesterol, plates=(N,))\n",
        "cholesterol.observe(data[:, 5])\n",
        "\n",
        "# Prepare nodes and establish edges\n",
        "# np.ones(2) -> HeartDisease has 2 options Yes/No\n",
        "# plates(5, 2, 2, 3, 4, 3) -> corresponds to options present for domain values\n",
        "p_heartdisease = bp.nodes.Dirichlet(np.ones(2), plates=(5, 2, 2, 3, 4, 3))\n",
        "heartdisease = bp.nodes.MultiMixture(\n",
        "    [age, gender, familyhistory, diet, lifestyle, cholesterol], bp.nodes.Categorical, p_heartdisease)\n",
        "heartdisease.observe(data[:, 6])\n",
        "p_heartdisease.update()\n",
        "\n",
        "#print(\"Sample Probability\")\n",
        "#print(\"Probability(HeartDisease|Age=SuperSeniorCitizen, Gender=Female, FamilyHistory=Yes, DietIntake=Medium, LifeStyle=Sedetary, Cholesterol=High)\") \n",
        "#print(bp.nodes.MultiMixture([ageEnum['SuperSeniorCitizen'], genderEnum['Female'], familyHistoryEnum['Yes'], dietEnum['Medium'], lifeStyleEnum['Sedetary'], cholesterolEnum['High']], bp.nodes.Categorical, p_heartdisease).get_moments()[0] [heartDiseaseEnum['Yes']])\n",
        "\n",
        "# Interactive Test\n",
        "m = 0\n",
        "while m == 0:\n",
        "    print(\"\\n\")\n",
        "    res = bp.nodes.MultiMixture([int(input('Enter Age: ' + str(ageEnum))), int(input('Enter Gender: ' + str(genderEnum))), int(input('Enter FamilyHistory: ' + str(familyHistoryEnum))), int(input('Enter dietEnum: ' + str(\n",
        "        dietEnum))), int(input('Enter LifeStyle: ' + str(lifeStyleEnum))), int(input('Enter Cholesterol: ' + str(cholesterolEnum)))], bp.nodes.Categorical, p_heartdisease).get_moments()[0][heartDiseaseEnum['Yes']]\n",
        "    print(\"Probability(HeartDisease) = \" + str(res))\n",
        "\n",
        "# print(Style.RESET_ALL)\n",
        "    m = int(input(\"Enter for Continue:0, Exit :1 \"))\n",
        "\n",
        "    "
      ],
      "execution_count": 16,
      "outputs": [
        {
          "output_type": "stream",
          "text": [
            "Requirement already satisfied: bayespy in /usr/local/lib/python3.7/dist-packages (0.5.22)\n",
            "Requirement already satisfied: numpy>=1.10.0 in /usr/local/lib/python3.7/dist-packages (from bayespy) (1.19.5)\n",
            "Requirement already satisfied: h5py in /usr/local/lib/python3.7/dist-packages (from bayespy) (2.10.0)\n",
            "Requirement already satisfied: scipy>=0.13.0 in /usr/local/lib/python3.7/dist-packages (from bayespy) (1.4.1)\n",
            "Requirement already satisfied: six in /usr/local/lib/python3.7/dist-packages (from h5py->bayespy) (1.15.0)\n",
            "Requirement already satisfied: colorama in /usr/local/lib/python3.7/dist-packages (0.4.4)\n",
            "Requirement already satisfied: colorama in /usr/local/lib/python3.7/dist-packages (0.4.4)\n",
            "\n",
            "\n",
            "Enter Age: {'SuperSeniorCitizen': 0, 'SeniorCitizen': 1, 'MiddleAged': 2, 'Youth': 3, 'Teen': 4}3\n",
            "Enter Gender: {'Male': 0, 'Female': 1}0\n",
            "Enter FamilyHistory: {'Yes': 0, 'No': 1}1\n",
            "Enter dietEnum: {'High': 0, 'Medium': 1, 'Low': 2}1\n",
            "Enter LifeStyle: {'Athlete': 0, 'Active': 1, 'Moderate': 2, 'Sedetary': 3}3\n",
            "Enter Cholesterol: {'High': 0, 'BorderLine': 1, 'Normal': 2}1\n",
            "Probability(HeartDisease) = 0.5\n",
            "Enter for Continue:0, Exit :1 1\n"
          ],
          "name": "stdout"
        }
      ]
    }
  ]
}