{
  "nbformat": 4,
  "nbformat_minor": 0,
  "metadata": {
    "colab": {
      "name": "Untitled0.ipynb",
      "provenance": []
    },
    "kernelspec": {
      "name": "python3",
      "display_name": "Python 3"
    },
    "language_info": {
      "name": "python"
    }
  },
  "cells": [
    {
      "cell_type": "markdown",
      "metadata": {
        "id": "Kf9q8fiXN2LE"
      },
      "source": [
        "DATASET\n",
        "\n",
        "|Height|Age|Weight|\n",
        "|------|---|------|\n",
        "|5|45|77|\n",
        "|5.11|26|47|\n",
        "|5.6|30|55|\n",
        "|5.9|34|59|\n",
        "|4.8|40|72|\n",
        "|5.8|36|60|\n",
        "|5.3|19|40|\n",
        "|5.8|28|60|\n",
        "|5.5|23|45|\n",
        "|5.6|32|58|"
      ]
    },
    {
      "cell_type": "code",
      "metadata": {
        "colab": {
          "base_uri": "https://localhost:8080/"
        },
        "id": "zZqxSyvLmXwl",
        "outputId": "eb8bc8dc-7918-4aa2-8f88-0ddd5739dfb2"
      },
      "source": [
        "from sklearn.model_selection import train_test_split\n",
        "from sklearn.neighbors import KNeighborsClassifier\n",
        "from sklearn.metrics import classification_report, confusion_matrix\n",
        "import pandas as pd\n",
        "\n",
        "df=pd.read_csv('train.csv')\n",
        "\n",
        "print(df)\n"
      ],
      "execution_count": 1,
      "outputs": [
        {
          "output_type": "stream",
          "text": [
            "   Height  Age  Weight\n",
            "0    5.00   45      77\n",
            "1    5.11   26      47\n",
            "2    5.60   30      55\n",
            "3    5.90   34      59\n",
            "4    4.80   40      72\n",
            "5    5.80   36      60\n",
            "6    5.30   19      40\n",
            "7    5.80   28      60\n",
            "8    5.50   23      45\n",
            "9    5.60   32      58\n"
          ],
          "name": "stdout"
        }
      ]
    },
    {
      "cell_type": "code",
      "metadata": {
        "colab": {
          "base_uri": "https://localhost:8080/",
          "height": 279
        },
        "id": "uGUT-6KdD9hI",
        "outputId": "50e3b103-16e9-4a4e-e4ce-b3604554108a"
      },
      "source": [
        "import matplotlib.pyplot as plt\n",
        "\n",
        "plt.scatter(df['Age'],df['Height'],c='black')\n",
        "plt.xlabel('Age')\n",
        "plt.ylabel('Height')\n",
        "plt.show()"
      ],
      "execution_count": 3,
      "outputs": [
        {
          "output_type": "display_data",
          "data": {
            "image/png": "[encoded data removed]",
            "text/plain": [
              "<Figure size 432x288 with 1 Axes>"
            ]
          },
          "metadata": {
            "tags": [],
            "needs_background": "light"
          }
        }
      ]
    },
    {
      "cell_type": "code",
      "metadata": {
        "colab": {
          "base_uri": "https://localhost:8080/"
        },
        "id": "e1884VUMGqUN",
        "outputId": "b350101d-3307-4ae3-fa44-56829849994f"
      },
      "source": [
        "df.dtypes"
      ],
      "execution_count": 12,
      "outputs": [
        {
          "output_type": "execute_result",
          "data": {
            "text/plain": [
              "Height    float64\n",
              "Age         int64\n",
              "Weight      int64\n",
              "dtype: object"
            ]
          },
          "metadata": {
            "tags": []
          },
          "execution_count": 12
        }
      ]
    },
    {
      "cell_type": "code",
      "metadata": {
        "colab": {
          "base_uri": "https://localhost:8080/"
        },
        "id": "6F6iBXkZGr5l",
        "outputId": "525d0f7a-7ea7-48f4-bfb6-8229333c880b"
      },
      "source": [
        "x=df.iloc[:,0:2]\n",
        "print(x)"
      ],
      "execution_count": 41,
      "outputs": [
        {
          "output_type": "stream",
          "text": [
            "   Height  Age\n",
            "0    5.00   45\n",
            "1    5.11   26\n",
            "2    5.60   30\n",
            "3    5.90   34\n",
            "4    4.80   40\n",
            "5    5.80   36\n",
            "6    5.30   19\n",
            "7    5.80   28\n",
            "8    5.50   23\n",
            "9    5.60   32\n"
          ],
          "name": "stdout"
        }
      ]
    },
    {
      "cell_type": "code",
      "metadata": {
        "colab": {
          "base_uri": "https://localhost:8080/"
        },
        "id": "I7x3WA3PG7RF",
        "outputId": "cbf11548-5ea3-4c65-e95c-d09f9d0a13ed"
      },
      "source": [
        "y = df.iloc[:,2]\n",
        "print(y)"
      ],
      "execution_count": 42,
      "outputs": [
        {
          "output_type": "stream",
          "text": [
            "0    77\n",
            "1    47\n",
            "2    55\n",
            "3    59\n",
            "4    72\n",
            "5    60\n",
            "6    40\n",
            "7    60\n",
            "8    45\n",
            "9    58\n",
            "Name: Weight, dtype: int64\n"
          ],
          "name": "stdout"
        }
      ]
    },
    {
      "cell_type": "code",
      "metadata": {
        "id": "8Ypg-5MxHBiU"
      },
      "source": [
        "x_train, x_test, y_train, y_test= train_test_split(x, y, test_size= 0.3, random_state=0)"
      ],
      "execution_count": 69,
      "outputs": []
    },
    {
      "cell_type": "code",
      "metadata": {
        "colab": {
          "base_uri": "https://localhost:8080/"
        },
        "id": "wwRKpDLeLR2U",
        "outputId": "ef1794a6-72ef-4031-c1ac-94448263bfa1"
      },
      "source": [
        "print(x_train)\n",
        "print(y_train)\n",
        "print(x_test)\n",
        "print(y_test)"
      ],
      "execution_count": 84,
      "outputs": [
        {
          "output_type": "stream",
          "text": [
            "   Height  Age\n",
            "9    5.60   32\n",
            "1    5.11   26\n",
            "6    5.30   19\n",
            "7    5.80   28\n",
            "3    5.90   34\n",
            "0    5.00   45\n",
            "5    5.80   36\n",
            "9    58\n",
            "1    47\n",
            "6    40\n",
            "7    60\n",
            "3    59\n",
            "0    77\n",
            "5    60\n",
            "Name: Weight, dtype: int64\n",
            "   Height  Age\n",
            "2     5.6   30\n",
            "8     5.5   23\n",
            "4     4.8   40\n",
            "2    55\n",
            "8    45\n",
            "4    72\n",
            "Name: Weight, dtype: int64\n"
          ],
          "name": "stdout"
        }
      ]
    },
    {
      "cell_type": "code",
      "metadata": {
        "colab": {
          "base_uri": "https://localhost:8080/"
        },
        "id": "h7q-xngMHKEB",
        "outputId": "fd8a25e8-cff7-4291-ab07-39518bbc925c"
      },
      "source": [
        "knn = KNeighborsClassifier(n_neighbors= 3,weights = 'distance' ,metric=\"euclidean\")\n",
        "knn.fit(x_train, y_train)"
      ],
      "execution_count": 98,
      "outputs": [
        {
          "output_type": "execute_result",
          "data": {
            "text/plain": [
              "KNeighborsClassifier(algorithm='auto', leaf_size=30, metric='euclidean',\n",
              "                     metric_params=None, n_jobs=None, n_neighbors=3, p=2,\n",
              "                     weights='distance')"
            ]
          },
          "metadata": {
            "tags": []
          },
          "execution_count": 98
        }
      ]
    },
    {
      "cell_type": "code",
      "metadata": {
        "colab": {
          "base_uri": "https://localhost:8080/"
        },
        "id": "wCstCKtfHPt-",
        "outputId": "0378f37d-32b4-4cd4-e203-aea45143cf6d"
      },
      "source": [
        "from sklearn.metrics import accuracy_score\n",
        "print(\"Accuracy of test set=\",accuracy_score(y_test, y_pred)*100)"
      ],
      "execution_count": 97,
      "outputs": [
        {
          "output_type": "stream",
          "text": [
            "Accuracy of test set= 50.0\n"
          ],
          "name": "stdout"
        }
      ]
    },
    {
      "cell_type": "markdown",
      "metadata": {
        "id": "igPYYRpyOdoL"
      },
      "source": [
        "To find weight of the person whose height is 5.5 and Age is 38"
      ]
    },
    {
      "cell_type": "code",
      "metadata": {
        "colab": {
          "base_uri": "https://localhost:8080/"
        },
        "id": "XSFaZHr4HR-3",
        "outputId": "4b7a0897-f844-4592-9382-4c5e960ec2eb"
      },
      "source": [
        "knn.predict([[5.5,38]])"
      ],
      "execution_count": 74,
      "outputs": [
        {
          "output_type": "execute_result",
          "data": {
            "text/plain": [
              "array([60])"
            ]
          },
          "metadata": {
            "tags": []
          },
          "execution_count": 74
        }
      ]
    },
    {
      "cell_type": "markdown",
      "metadata": {
        "id": "t_f0eFRpOoG2"
      },
      "source": [
        "The weight of the person is 60"
      ]
    },
    {
      "cell_type": "code",
      "metadata": {
        "colab": {
          "base_uri": "https://localhost:8080/",
          "height": 295
        },
        "id": "qe7_g4XqMsvR",
        "outputId": "117fa7e8-1055-441b-ae02-b25a6b9afe16"
      },
      "source": [
        "import numpy as np\n",
        "from sklearn.neighbors import KNeighborsClassifier\n",
        "\n",
        "neighbors = np.arange(1,8)\n",
        "train_accuracy =np.empty(len(neighbors))\n",
        "test_accuracy = np.empty(len(neighbors))\n",
        "for i,k in enumerate(neighbors):\n",
        "    #Setup a knn classifier with k neighbors\n",
        "    knn = KNeighborsClassifier(n_neighbors=k)\n",
        "    #Fit the model \n",
        "    knn.fit(x_train, y_train) \n",
        "    #Compute accuracy on the training set \n",
        "    train_accuracy[i] = knn.score(x_train, y_train) \n",
        "    #Compute accuracy on the test set \n",
        "    test_accuracy[i] = knn.score(x_test, y_test) \n",
        "    #Generate plot\n",
        "plt.title('k-NN Varying number of neighbors')\n",
        "plt.plot(neighbors, test_accuracy, label='Testing Accuracy')\n",
        "plt.plot(neighbors, train_accuracy, label='Training accuracy')\n",
        "plt.legend()\n",
        "plt.xlabel('Number of neighbors')\n",
        "plt.ylabel('Accuracy')\n",
        "plt.show()"
      ],
      "execution_count": 94,
      "outputs": [
        {
          "output_type": "display_data",
          "data": {
            "image/png": "[encoded data removed]",
            "text/plain": [
              "<Figure size 432x288 with 1 Axes>"
            ]
          },
          "metadata": {
            "tags": [],
            "needs_background": "light"
          }
        }
      ]
    },
    {
      "cell_type": "markdown",
      "metadata": {
        "id": "GUt7k3l7RGl9"
      },
      "source": [
        "Considering Weight as category\n",
        "We get weight as 65"
      ]
    },
    {
      "cell_type": "code",
      "metadata": {
        "colab": {
          "base_uri": "https://localhost:8080/"
        },
        "id": "V8_7SMqfRuIl",
        "outputId": "47eb3789-044b-44a0-eae5-fc5ddf4f5d97"
      },
      "source": [
        "knn.predict([[5.5,38]])"
      ],
      "execution_count": null,
      "outputs": [
        {
          "output_type": "execute_result",
          "data": {
            "text/plain": [
              "array([65])"
            ]
          },
          "metadata": {
            "tags": []
          },
          "execution_count": 111
        }
      ]
    }
  ]
}