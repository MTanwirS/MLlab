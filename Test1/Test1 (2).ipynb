{
 "cells": [
  {
   "cell_type": "code",
   "execution_count": 2,
   "id": "whole-march",
   "metadata": {},
   "outputs": [
    {
     "name": "stdout",
     "output_type": "stream",
     "text": [
      "Requirement already satisfied: bayespy in /srv/conda/envs/notebook/lib/python3.7/site-packages (0.5.22)\n",
      "Requirement already satisfied: h5py in /srv/conda/envs/notebook/lib/python3.7/site-packages (from bayespy) (3.1.0)\n",
      "Requirement already satisfied: numpy>=1.10.0 in /srv/conda/envs/notebook/lib/python3.7/site-packages (from bayespy) (1.20.2)\n",
      "Requirement already satisfied: scipy>=0.13.0 in /srv/conda/envs/notebook/lib/python3.7/site-packages (from bayespy) (1.6.2)\n",
      "Requirement already satisfied: cached-property in /srv/conda/envs/notebook/lib/python3.7/site-packages (from h5py->bayespy) (1.5.2)\n"
     ]
    }
   ],
   "source": [
    "!pip install bayespy"
   ]
  },
  {
   "cell_type": "code",
   "execution_count": 3,
   "id": "excellent-norfolk",
   "metadata": {},
   "outputs": [],
   "source": [
    "import pandas as pd\n",
    "import numpy as np\n",
    "from bayespy.nodes import Categorical\n",
    "from bayespy.nodes import Dirichlet\n",
    "from bayespy.nodes import MultiMixture\n",
    "import csv"
   ]
  },
  {
   "cell_type": "code",
   "execution_count": 4,
   "id": "aggressive-mattress",
   "metadata": {},
   "outputs": [
    {
     "name": "stdout",
     "output_type": "stream",
     "text": [
      "Instances of heartdisease\n",
      "   People  gender  famil history  diet  lifestyle  cholestrol  target\n",
      "0       0       0              0     1          0           0       0\n",
      "1       0       1              0     1          0           0       0\n",
      "2       1       0              1     0          1           1       0\n",
      "3       4       0              0     1          0           2       1\n",
      "4       3       1              0     0          3           2       1\n",
      "19\n"
     ]
    }
   ],
   "source": [
    "heartdisease = pd.read_csv('image.csv')\n",
    "print(\"Instances of heartdisease\")\n",
    "print(heartdisease.head())\n",
    "heartdisease = np.array(heartdisease,dtype='int8')\n",
    "n = len(heartdisease)\n",
    "print(n)\n",
    "\n",
    "age = {'SuperSeniorCitizen':0, 'SeniorCitizen':1, 'MiddleAged':2,'Youth':3, 'Teen':4}\n",
    "gender = {'Male':0, 'Female': 1}\n",
    "fhistory = {'Yes':0, 'No':1}\n",
    "dietintake = {'High':0,'Medium':1,'Low':2}\n",
    "lifestyle = {'Sedentary':0, 'Moderate':1,'Active':2,'Athlete':3}\n",
    "cholesterol = {'High':0,'BorderLine':1,'Normal':2}\n",
    "hdtarget = {'Yes':0, 'No':1}"
   ]
  },
  {
   "cell_type": "code",
   "execution_count": 6,
   "id": "banner-installation",
   "metadata": {},
   "outputs": [],
   "source": [
    "page = Dirichlet(1.0*np.ones(5))\n",
    "ageob = Categorical(page, plates=(n,))\n",
    "ageob.observe(heartdisease[:, 0])\n",
    "\n",
    "pgender = Dirichlet(1.0*np.ones(2))\n",
    "genderob = Categorical(pgender, plates=(n,))\n",
    "genderob.observe(heartdisease[:, 1])\n",
    "\n",
    "pfhistory = Dirichlet(1.0*np.ones(2))\n",
    "fhistoryob = Categorical(pfhistory, plates=(n,))\n",
    "fhistoryob.observe(heartdisease[:, 2])\n",
    "\n",
    "pdiet = Dirichlet(1.0*np.ones(3))\n",
    "dietob = Categorical(pdiet, plates=(n,))\n",
    "dietob.observe(heartdisease[:, 3])\n",
    "\n",
    "plifestyle = Dirichlet(1.0*np.ones(4))\n",
    "lifestyleob = Categorical(plifestyle, plates=(n,))\n",
    "lifestyleob.observe(heartdisease[:, 4])\n",
    "\n",
    "pcholesterol = Dirichlet(1.0*np.ones(3))\n",
    "cholesterolob = Categorical(pcholesterol, plates=(n,))\n",
    "cholesterolob.observe(heartdisease[:, 5])\n",
    "\n",
    "pheartdisease = Dirichlet(np.ones(2), plates=(5,2,2,3,4,3))\n",
    "heartdiseaseob = MultiMixture([ageob, genderob, fhistoryob, dietob, lifestyleob, cholesterolob],Categorical,pheartdisease)\n",
    "heartdiseaseob.observe(heartdisease[:,6])\n",
    "\n",
    "pheartdisease.update()"
   ]
  },
  {
   "cell_type": "code",
   "execution_count": 9,
   "id": "static-mirror",
   "metadata": {},
   "outputs": [
    {
     "name": "stdout",
     "output_type": "stream",
     "text": [
      "Calculate Probabilty Diagnosis\n",
      "\n",
      "\n"
     ]
    },
    {
     "name": "stdin",
     "output_type": "stream",
     "text": [
      "Age: {'SuperSeniorCitizen': 0, 'SeniorCitizen': 1, 'MiddleAged': 2, 'Youth': 3, 'Teen': 4} 3\n",
      "Gender: {'Male': 0, 'Female': 1} 0\n",
      "Diet: {'High': 0, 'Medium': 1, 'Low': 2} 1\n",
      "Lifestyle: {'Sedentary': 0, 'Moderate': 1, 'Active': 2, 'Athlete': 3} 1\n",
      "Family History: {'Yes': 0, 'No': 1} 1\n",
      "Cholesterol: {'High': 0, 'BorderLine': 1, 'Normal': 2} 1\n"
     ]
    },
    {
     "name": "stdout",
     "output_type": "stream",
     "text": [
      "Diagnosis Probabilty= 0.5\n"
     ]
    },
    {
     "name": "stdin",
     "output_type": "stream",
     "text": [
      "continue? (Yes: 1 / No : 0) 0\n"
     ]
    }
   ],
   "source": [
    "print(\"Calculate Probabilty Diagnosis\")\n",
    "\n",
    "i = 1 \n",
    "while i == 1:\n",
    "    print(\"\\n\")\n",
    "    prob = MultiMixture([int(input(\"Age: \"+str(age)) or \"3\"),int(input(\"Gender: \"+str(gender)) or \"1\"),int(input(\"Diet: \"+str(dietintake)) or \"1\"),int(input(\"Lifestyle: \"+str(lifestyle)) or \"2\"),int(input(\"Family History: \"+str(fhistory)) or \"0\"), int(input(\"Cholesterol: \"+str(cholesterol)) or \"1\") ], Categorical, pheartdisease)\n",
    "    prob = prob.get_moments()[0][hdtarget['Yes']]\n",
    "    print(\"Diagnosis Probabilty= \" + str(prob))\n",
    "    i = int(input(\"continue? (Yes: 1 / No : 0)\"))"
   ]
  }
 ],
 "metadata": {
  "kernelspec": {
   "display_name": "Python 3",
   "language": "python",
   "name": "python3"
  },
  "language_info": {
   "codemirror_mode": {
    "name": "ipython",
    "version": 3
   },
   "file_extension": ".py",
   "mimetype": "text/x-python",
   "name": "python",
   "nbconvert_exporter": "python",
   "pygments_lexer": "ipython3",
   "version": "3.7.8"
  }
 },
 "nbformat": 4,
 "nbformat_minor": 5
}
