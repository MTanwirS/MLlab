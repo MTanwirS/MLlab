{
  "nbformat": 4,
  "nbformat_minor": 0,
  "metadata": {
    "colab": {
      "name": "Untitled0.ipynb",
      "provenance": []
    },
    "kernelspec": {
      "name": "python3",
      "display_name": "Python 3"
    },
    "language_info": {
      "name": "python"
    }
  },
  "cells": [
    {
      "cell_type": "markdown",
      "metadata": {
        "id": "A5Y0hX7zYUA6"
      },
      "source": [
        "#KNN"
      ]
    },
    {
      "cell_type": "code",
      "metadata": {
        "colab": {
          "base_uri": "https://localhost:8080/"
        },
        "id": "zZqxSyvLmXwl",
        "outputId": "48820f66-6c08-4f1d-c032-964fb352c89c"
      },
      "source": [
        "from sklearn.model_selection import train_test_split\n",
        "from sklearn.neighbors import KNeighborsClassifier\n",
        "from sklearn.metrics import classification_report, confusion_matrix\n",
        "from sklearn import datasets\n",
        "\n",
        "iris=datasets.load_iris()\n",
        "\n",
        "iris.keys()\n",
        "\n",
        "df=pd.DataFrame(iris['data'])\n",
        "\n",
        "print(df)\n",
        "\n",
        "print(iris['target_names'])\n",
        "\n",
        "iris['feature_names']\n",
        "\n",
        "x = iris.data\n",
        "y = iris.target\n",
        "\n",
        "x_train, x_test, y_train, y_test = train_test_split(x,y,test_size=0.3)\n",
        "\n",
        "#To Training the model and Nearest nighbors K=5\n",
        "classifier = KNeighborsClassifier(n_neighbors=5)\n",
        "classifier.fit(x_train, y_train)\n",
        "\n",
        "#To make predictions on our test data\n",
        "y_pred=classifier.predict(x_test)\n",
        "\n",
        "print('Confusion Matrix')\n",
        "print(confusion_matrix(y_test,y_pred))\n",
        "print('Accuracy Metrics')\n",
        "print(classification_report(y_test,y_pred))"
      ],
      "execution_count": null,
      "outputs": [
        {
          "output_type": "stream",
          "text": [
            "       0    1    2    3\n",
            "0    5.1  3.5  1.4  0.2\n",
            "1    4.9  3.0  1.4  0.2\n",
            "2    4.7  3.2  1.3  0.2\n",
            "3    4.6  3.1  1.5  0.2\n",
            "4    5.0  3.6  1.4  0.2\n",
            "..   ...  ...  ...  ...\n",
            "145  6.7  3.0  5.2  2.3\n",
            "146  6.3  2.5  5.0  1.9\n",
            "147  6.5  3.0  5.2  2.0\n",
            "148  6.2  3.4  5.4  2.3\n",
            "149  5.9  3.0  5.1  1.8\n",
            "\n",
            "[150 rows x 4 columns]\n",
            "['setosa' 'versicolor' 'virginica']\n",
            "Confusion Matrix\n",
            "[[12  0  0]\n",
            " [ 0 20  0]\n",
            " [ 0  1 12]]\n",
            "Accuracy Metrics\n",
            "              precision    recall  f1-score   support\n",
            "\n",
            "           0       1.00      1.00      1.00        12\n",
            "           1       0.95      1.00      0.98        20\n",
            "           2       1.00      0.92      0.96        13\n",
            "\n",
            "    accuracy                           0.98        45\n",
            "   macro avg       0.98      0.97      0.98        45\n",
            "weighted avg       0.98      0.98      0.98        45\n",
            "\n"
          ],
          "name": "stdout"
        }
      ]
    }
  ]
}