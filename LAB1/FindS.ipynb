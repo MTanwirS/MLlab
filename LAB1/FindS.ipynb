{
  "nbformat": 4,
  "nbformat_minor": 0,
  "metadata": {
    "colab": {
      "name": "Untitled0.ipynb",
      "provenance": []
    },
    "kernelspec": {
      "name": "python3",
      "display_name": "Python 3"
    },
    "language_info": {
      "name": "python"
    }
  },
  "cells": [
    {
      "cell_type": "code",
      "metadata": {
        "colab": {
          "base_uri": "https://localhost:8080/"
        },
        "id": "fQwtqNx2ISwP",
        "outputId": "a8791535-ed92-40ad-964d-97362bf9daf5"
      },
      "source": [
        "import pandas as pd\n",
        "import numpy as np\n",
        " \n",
        "#training function to implement find-s algorithm\n",
        "def train(c,t):\n",
        "    for i, val in enumerate(t):\n",
        "        if val == \"Positive\":\n",
        "            specific_hypothesis = c[i].copy()\n",
        "            break\n",
        "             \n",
        "    for i, val in enumerate(c):\n",
        "        if t[i] == \"Positive\":\n",
        "            for x in range(len(specific_hypothesis)):\n",
        "                if val[x] != specific_hypothesis[x]:\n",
        "                    specific_hypothesis[x] = '?'\n",
        "                else:\n",
        "                    pass\n",
        "                 \n",
        "    return specific_hypothesis\n",
        "\n",
        "#to read the data in the csv file\n",
        "data = pd.read_csv(\"mlsalgo.csv\")\n",
        "print(data)\n",
        " \n",
        "#making an array of all the attributes\n",
        "d = np.array(data)[:,:-1]\n",
        "print(\"The attributes are: \",d)\n",
        " \n",
        "#segragating the target that has positive and negative examples\n",
        "target = np.array(data)[:,-1]\n",
        "print(\"The target is: \",target)\n",
        " \n",
        "#obtaining the final hypothesis\n",
        "print(\"The final hypothesis is:\",train(d,target))"
      ],
      "execution_count": 7,
      "outputs": [
        {
          "output_type": "stream",
          "text": [
            "  Origin Manufacturer  Color  Decade     Type Example Type\n",
            "0  Japan        Honda   Blue    1980  Economy     Positive\n",
            "1  Japan       Toyota  Green    1970   Sports     Negative\n",
            "2  Japan       Toyota   Blue    1990  Economy     Positive\n",
            "3    USA     Chrysler    Red    1980  Economy     Negative\n",
            "4  Japan        Honda  White    1980  Economy     Positive\n",
            "5  Japan       Toyota  Green    1980  Economy     Positive\n",
            "6  Japan        Honda    Red    1990  Economy     Negative\n",
            "The attributes are:  [['Japan' 'Honda' 'Blue' 1980 'Economy']\n",
            " ['Japan' 'Toyota' 'Green' 1970 'Sports']\n",
            " ['Japan' 'Toyota' 'Blue' 1990 'Economy']\n",
            " ['USA' 'Chrysler' 'Red' 1980 'Economy']\n",
            " ['Japan' 'Honda' 'White' 1980 'Economy']\n",
            " ['Japan' 'Toyota' 'Green' 1980 'Economy']\n",
            " ['Japan' 'Honda' 'Red' 1990 'Economy']]\n",
            "The target is:  ['Positive' 'Negative' 'Positive' 'Negative' 'Positive' 'Positive'\n",
            " 'Negative']\n",
            "The final hypothesis is: ['Japan' '?' '?' '?' 'Economy']\n"
          ],
          "name": "stdout"
        }
      ]
    }
  ]
}