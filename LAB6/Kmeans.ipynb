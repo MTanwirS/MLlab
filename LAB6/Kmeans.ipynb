{
  "nbformat": 4,
  "nbformat_minor": 0,
  "metadata": {
    "colab": {
      "name": "Untitled0.ipynb",
      "provenance": []
    },
    "kernelspec": {
      "name": "python3",
      "display_name": "Python 3"
    },
    "language_info": {
      "name": "python"
    }
  },
  "cells": [
    {
      "cell_type": "code",
      "metadata": {
        "id": "__QdKsAsg3yr"
      },
      "source": [
        ""
      ],
      "execution_count": null,
      "outputs": []
    },
    {
      "cell_type": "markdown",
      "metadata": {
        "id": "fo1jdVBuNSOK"
      },
      "source": [
        "# K means"
      ]
    },
    {
      "cell_type": "code",
      "metadata": {
        "id": "yFyJZbkSdsKU"
      },
      "source": [
        "import math\n",
        "def caldis(x,y) :\n",
        "  distance = math.sqrt( ((x[0]-y[0])**2) + ((x[1]-y[1])**2) )\n",
        "  return distance"
      ],
      "execution_count": null,
      "outputs": []
    },
    {
      "cell_type": "code",
      "metadata": {
        "id": "Q14QEkKEvm5H"
      },
      "source": [
        "import matplotlib.pyplot as plt\n",
        "def plotgrph(points, centroids):\n",
        "  x = []\n",
        "  y = []\n",
        "\n",
        "  for i in range(len(points)):\n",
        "    x.append(points[i][0])\n",
        "    y.append(points[i][1])\n",
        "  plt.scatter(x,y,c='black')\n",
        "\n",
        "  x = []\n",
        "  y = []\n",
        "  for i in range(len(centroids)):\n",
        "    x.append(centroids[i][0])\n",
        "    y.append(centroids[i][1])\n",
        "  plt.scatter(x,y,c='red')\n",
        "\n",
        "  plt.xlabel('X Coordinate')\n",
        "  plt.ylabel('Y Coordinate')\n",
        "  plt.show()"
      ],
      "execution_count": null,
      "outputs": []
    },
    {
      "cell_type": "code",
      "metadata": {
        "id": "pxbXf0-6pbXv"
      },
      "source": [
        "def kmeans (points,centroids,n,iter=0):\n",
        "  ncentroids= [0,0]\n",
        "  while iter<n and ncentroids != centroids:\n",
        "    if iter != 0 :\n",
        "       centroids = ncentroids\n",
        "    print(\"Iteration \"+str(iter))\n",
        "    ncentroids = [[0,0,0],[0,0,0],[0,0,0]]\n",
        "\n",
        "    for i in range(len(points)):\n",
        "      pointdis = 999999\n",
        "      for j in range(len(centroids)):\n",
        "        d = caldis(centroids[j],points[i])\n",
        "        print(\"For point \"+str(points[i])+\"and Center\"+str(centroids[j])+\"Distance is : \"+str(d))\n",
        "        if d < pointdis :\n",
        "          pointdis = d\n",
        "          points[i][2] = j\n",
        "        \n",
        "      print(\"For point \"+str(points[i])+\"Center is : \"+str(points[i][2]))\n",
        "      ncentroids[points[i][2]][2]+=1 \n",
        "      for k in range(len(ncentroids)-1):\n",
        "        ncentroids[points[i][2]][k] += points[i][k]\n",
        "\n",
        "    for i in range(len(ncentroids)):\n",
        "      for j in range(len(ncentroids[i])-1):\n",
        "        ncentroids[i][j] /= ncentroids[i][2]\n",
        "      ncentroids[i][2] = 0\n",
        "    iter += 1\n",
        "    print(\"New Centroids in \"+str(iter) +\" are :\")\n",
        "    print(ncentroids)\n",
        "\n",
        "    plotgrph(points,centroids)\n",
        "\n"
      ],
      "execution_count": null,
      "outputs": []
    },
    {
      "cell_type": "code",
      "metadata": {
        "colab": {
          "base_uri": "https://localhost:8080/",
          "height": 1000
        },
        "id": "VPj6lfCRbKz_",
        "outputId": "fa72beeb-5e88-4a8e-decd-20b56b5253fd"
      },
      "source": [
        "points = [[2, 10, 0],[2, 5, 0],[8, 4, 0],[5, 8, 0],[7, 5, 0],[6, 4, 0],[1, 2, 0],[4, 9, 0]]\n",
        "centroids = [[2,10,0],[5,8,0],[1,2,0]]\n",
        "kmeans(points,centroids,10)"
      ],
      "execution_count": null,
      "outputs": [
        {
          "output_type": "stream",
          "text": [
            "Iteration 0\n",
            "For point [2, 10, 0]and Center[2, 10, 0]Distance is : 0.0\n",
            "For point [2, 10, 0]and Center[5, 8, 0]Distance is : 3.605551275463989\n",
            "For point [2, 10, 0]and Center[1, 2, 0]Distance is : 8.06225774829855\n",
            "For point [2, 10, 0]Center is : 0\n",
            "For point [2, 5, 0]and Center[2, 10, 0]Distance is : 5.0\n",
            "For point [2, 5, 0]and Center[5, 8, 0]Distance is : 4.242640687119285\n",
            "For point [2, 5, 1]and Center[1, 2, 0]Distance is : 3.1622776601683795\n",
            "For point [2, 5, 2]Center is : 2\n",
            "For point [8, 4, 0]and Center[2, 10, 0]Distance is : 8.48528137423857\n",
            "For point [8, 4, 0]and Center[5, 8, 0]Distance is : 5.0\n",
            "For point [8, 4, 1]and Center[1, 2, 0]Distance is : 7.280109889280518\n",
            "For point [8, 4, 1]Center is : 1\n",
            "For point [5, 8, 0]and Center[2, 10, 0]Distance is : 3.605551275463989\n",
            "For point [5, 8, 0]and Center[5, 8, 0]Distance is : 0.0\n",
            "For point [5, 8, 1]and Center[1, 2, 0]Distance is : 7.211102550927978\n",
            "For point [5, 8, 1]Center is : 1\n",
            "For point [7, 5, 0]and Center[2, 10, 0]Distance is : 7.0710678118654755\n",
            "For point [7, 5, 0]and Center[5, 8, 0]Distance is : 3.605551275463989\n",
            "For point [7, 5, 1]and Center[1, 2, 0]Distance is : 6.708203932499369\n",
            "For point [7, 5, 1]Center is : 1\n",
            "For point [6, 4, 0]and Center[2, 10, 0]Distance is : 7.211102550927978\n",
            "For point [6, 4, 0]and Center[5, 8, 0]Distance is : 4.123105625617661\n",
            "For point [6, 4, 1]and Center[1, 2, 0]Distance is : 5.385164807134504\n",
            "For point [6, 4, 1]Center is : 1\n",
            "For point [1, 2, 0]and Center[2, 10, 0]Distance is : 8.06225774829855\n",
            "For point [1, 2, 0]and Center[5, 8, 0]Distance is : 7.211102550927978\n",
            "For point [1, 2, 1]and Center[1, 2, 0]Distance is : 0.0\n",
            "For point [1, 2, 2]Center is : 2\n",
            "For point [4, 9, 0]and Center[2, 10, 0]Distance is : 2.23606797749979\n",
            "For point [4, 9, 0]and Center[5, 8, 0]Distance is : 1.4142135623730951\n",
            "For point [4, 9, 1]and Center[1, 2, 0]Distance is : 7.615773105863909\n",
            "For point [4, 9, 1]Center is : 1\n",
            "New Centroids in 1 are :\n",
            "[[2.0, 10.0, 0], [6.0, 6.0, 0], [1.5, 3.5, 0]]\n"
          ],
          "name": "stdout"
        },
        {
          "output_type": "display_data",
          "data": {
            "image/png": "[encoded data removed]",
            "text/plain": [
              "<Figure size 432x288 with 1 Axes>"
            ]
          },
          "metadata": {
            "tags": [],
            "needs_background": "light"
          }
        },
        {
          "output_type": "stream",
          "text": [
            "Iteration 1\n",
            "For point [2, 10, 0]and Center[2.0, 10.0, 0]Distance is : 0.0\n",
            "For point [2, 10, 0]and Center[6.0, 6.0, 0]Distance is : 5.656854249492381\n",
            "For point [2, 10, 0]and Center[1.5, 3.5, 0]Distance is : 6.519202405202649\n",
            "For point [2, 10, 0]Center is : 0\n",
            "For point [2, 5, 2]and Center[2.0, 10.0, 0]Distance is : 5.0\n",
            "For point [2, 5, 0]and Center[6.0, 6.0, 0]Distance is : 4.123105625617661\n",
            "For point [2, 5, 1]and Center[1.5, 3.5, 0]Distance is : 1.5811388300841898\n",
            "For point [2, 5, 2]Center is : 2\n",
            "For point [8, 4, 1]and Center[2.0, 10.0, 0]Distance is : 8.48528137423857\n",
            "For point [8, 4, 0]and Center[6.0, 6.0, 0]Distance is : 2.8284271247461903\n",
            "For point [8, 4, 1]and Center[1.5, 3.5, 0]Distance is : 6.519202405202649\n",
            "For point [8, 4, 1]Center is : 1\n",
            "For point [5, 8, 1]and Center[2.0, 10.0, 0]Distance is : 3.605551275463989\n",
            "For point [5, 8, 0]and Center[6.0, 6.0, 0]Distance is : 2.23606797749979\n",
            "For point [5, 8, 1]and Center[1.5, 3.5, 0]Distance is : 5.70087712549569\n",
            "For point [5, 8, 1]Center is : 1\n",
            "For point [7, 5, 1]and Center[2.0, 10.0, 0]Distance is : 7.0710678118654755\n",
            "For point [7, 5, 0]and Center[6.0, 6.0, 0]Distance is : 1.4142135623730951\n",
            "For point [7, 5, 1]and Center[1.5, 3.5, 0]Distance is : 5.70087712549569\n",
            "For point [7, 5, 1]Center is : 1\n",
            "For point [6, 4, 1]and Center[2.0, 10.0, 0]Distance is : 7.211102550927978\n",
            "For point [6, 4, 0]and Center[6.0, 6.0, 0]Distance is : 2.0\n",
            "For point [6, 4, 1]and Center[1.5, 3.5, 0]Distance is : 4.527692569068709\n",
            "For point [6, 4, 1]Center is : 1\n",
            "For point [1, 2, 2]and Center[2.0, 10.0, 0]Distance is : 8.06225774829855\n",
            "For point [1, 2, 0]and Center[6.0, 6.0, 0]Distance is : 6.4031242374328485\n",
            "For point [1, 2, 1]and Center[1.5, 3.5, 0]Distance is : 1.5811388300841898\n",
            "For point [1, 2, 2]Center is : 2\n",
            "For point [4, 9, 1]and Center[2.0, 10.0, 0]Distance is : 2.23606797749979\n",
            "For point [4, 9, 0]and Center[6.0, 6.0, 0]Distance is : 3.605551275463989\n",
            "For point [4, 9, 0]and Center[1.5, 3.5, 0]Distance is : 6.041522986797286\n",
            "For point [4, 9, 0]Center is : 0\n",
            "New Centroids in 2 are :\n",
            "[[3.0, 9.5, 0], [6.5, 5.25, 0], [1.5, 3.5, 0]]\n"
          ],
          "name": "stdout"
        },
        {
          "output_type": "display_data",
          "data": {
            "image/png": "[encoded data removed]",
            "text/plain": [
              "<Figure size 432x288 with 1 Axes>"
            ]
          },
          "metadata": {
            "tags": [],
            "needs_background": "light"
          }
        },
        {
          "output_type": "stream",
          "text": [
            "Iteration 2\n",
            "For point [2, 10, 0]and Center[3.0, 9.5, 0]Distance is : 1.118033988749895\n",
            "For point [2, 10, 0]and Center[6.5, 5.25, 0]Distance is : 6.5431261641512\n",
            "For point [2, 10, 0]and Center[1.5, 3.5, 0]Distance is : 6.519202405202649\n",
            "For point [2, 10, 0]Center is : 0\n",
            "For point [2, 5, 2]and Center[3.0, 9.5, 0]Distance is : 4.6097722286464435\n",
            "For point [2, 5, 0]and Center[6.5, 5.25, 0]Distance is : 4.5069390943299865\n",
            "For point [2, 5, 1]and Center[1.5, 3.5, 0]Distance is : 1.5811388300841898\n",
            "For point [2, 5, 2]Center is : 2\n",
            "For point [8, 4, 1]and Center[3.0, 9.5, 0]Distance is : 7.433034373659253\n",
            "For point [8, 4, 0]and Center[6.5, 5.25, 0]Distance is : 1.9525624189766635\n",
            "For point [8, 4, 1]and Center[1.5, 3.5, 0]Distance is : 6.519202405202649\n",
            "For point [8, 4, 1]Center is : 1\n",
            "For point [5, 8, 1]and Center[3.0, 9.5, 0]Distance is : 2.5\n",
            "For point [5, 8, 0]and Center[6.5, 5.25, 0]Distance is : 3.132491021535417\n",
            "For point [5, 8, 0]and Center[1.5, 3.5, 0]Distance is : 5.70087712549569\n",
            "For point [5, 8, 0]Center is : 0\n",
            "For point [7, 5, 1]and Center[3.0, 9.5, 0]Distance is : 6.020797289396148\n",
            "For point [7, 5, 0]and Center[6.5, 5.25, 0]Distance is : 0.5590169943749475\n",
            "For point [7, 5, 1]and Center[1.5, 3.5, 0]Distance is : 5.70087712549569\n",
            "For point [7, 5, 1]Center is : 1\n",
            "For point [6, 4, 1]and Center[3.0, 9.5, 0]Distance is : 6.264982043070834\n",
            "For point [6, 4, 0]and Center[6.5, 5.25, 0]Distance is : 1.346291201783626\n",
            "For point [6, 4, 1]and Center[1.5, 3.5, 0]Distance is : 4.527692569068709\n",
            "For point [6, 4, 1]Center is : 1\n",
            "For point [1, 2, 2]and Center[3.0, 9.5, 0]Distance is : 7.762087348130012\n",
            "For point [1, 2, 0]and Center[6.5, 5.25, 0]Distance is : 6.388466169590319\n",
            "For point [1, 2, 1]and Center[1.5, 3.5, 0]Distance is : 1.5811388300841898\n",
            "For point [1, 2, 2]Center is : 2\n",
            "For point [4, 9, 0]and Center[3.0, 9.5, 0]Distance is : 1.118033988749895\n",
            "For point [4, 9, 0]and Center[6.5, 5.25, 0]Distance is : 4.5069390943299865\n",
            "For point [4, 9, 0]and Center[1.5, 3.5, 0]Distance is : 6.041522986797286\n",
            "For point [4, 9, 0]Center is : 0\n",
            "New Centroids in 3 are :\n",
            "[[3.6666666666666665, 9.0, 0], [7.0, 4.333333333333333, 0], [1.5, 3.5, 0]]\n"
          ],
          "name": "stdout"
        },
        {
          "output_type": "display_data",
          "data": {
            "image/png": "[encoded data removed]",
            "text/plain": [
              "<Figure size 432x288 with 1 Axes>"
            ]
          },
          "metadata": {
            "tags": [],
            "needs_background": "light"
          }
        },
        {
          "output_type": "stream",
          "text": [
            "Iteration 3\n",
            "For point [2, 10, 0]and Center[3.6666666666666665, 9.0, 0]Distance is : 1.9436506316151\n",
            "For point [2, 10, 0]and Center[7.0, 4.333333333333333, 0]Distance is : 7.557189365836423\n",
            "For point [2, 10, 0]and Center[1.5, 3.5, 0]Distance is : 6.519202405202649\n",
            "For point [2, 10, 0]Center is : 0\n",
            "For point [2, 5, 2]and Center[3.6666666666666665, 9.0, 0]Distance is : 4.333333333333333\n",
            "For point [2, 5, 0]and Center[7.0, 4.333333333333333, 0]Distance is : 5.044248650140519\n",
            "For point [2, 5, 0]and Center[1.5, 3.5, 0]Distance is : 1.5811388300841898\n",
            "For point [2, 5, 2]Center is : 2\n",
            "For point [8, 4, 1]and Center[3.6666666666666665, 9.0, 0]Distance is : 6.61647774709307\n",
            "For point [8, 4, 0]and Center[7.0, 4.333333333333333, 0]Distance is : 1.0540925533894596\n",
            "For point [8, 4, 1]and Center[1.5, 3.5, 0]Distance is : 6.519202405202649\n",
            "For point [8, 4, 1]Center is : 1\n",
            "For point [5, 8, 0]and Center[3.6666666666666665, 9.0, 0]Distance is : 1.6666666666666667\n",
            "For point [5, 8, 0]and Center[7.0, 4.333333333333333, 0]Distance is : 4.176654695380556\n",
            "For point [5, 8, 0]and Center[1.5, 3.5, 0]Distance is : 5.70087712549569\n",
            "For point [5, 8, 0]Center is : 0\n",
            "For point [7, 5, 1]and Center[3.6666666666666665, 9.0, 0]Distance is : 5.2068331172711035\n",
            "For point [7, 5, 0]and Center[7.0, 4.333333333333333, 0]Distance is : 0.666666666666667\n",
            "For point [7, 5, 1]and Center[1.5, 3.5, 0]Distance is : 5.70087712549569\n",
            "For point [7, 5, 1]Center is : 1\n",
            "For point [6, 4, 1]and Center[3.6666666666666665, 9.0, 0]Distance is : 5.517648452415616\n",
            "For point [6, 4, 0]and Center[7.0, 4.333333333333333, 0]Distance is : 1.0540925533894596\n",
            "For point [6, 4, 1]and Center[1.5, 3.5, 0]Distance is : 4.527692569068709\n",
            "For point [6, 4, 1]Center is : 1\n",
            "For point [1, 2, 2]and Center[3.6666666666666665, 9.0, 0]Distance is : 7.490735018081411\n",
            "For point [1, 2, 0]and Center[7.0, 4.333333333333333, 0]Distance is : 6.437735971942655\n",
            "For point [1, 2, 1]and Center[1.5, 3.5, 0]Distance is : 1.5811388300841898\n",
            "For point [1, 2, 2]Center is : 2\n",
            "For point [4, 9, 0]and Center[3.6666666666666665, 9.0, 0]Distance is : 0.3333333333333335\n",
            "For point [4, 9, 0]and Center[7.0, 4.333333333333333, 0]Distance is : 5.547772325697746\n",
            "For point [4, 9, 0]and Center[1.5, 3.5, 0]Distance is : 6.041522986797286\n",
            "For point [4, 9, 0]Center is : 0\n",
            "New Centroids in 4 are :\n",
            "[[3.6666666666666665, 9.0, 0], [7.0, 4.333333333333333, 0], [1.5, 3.5, 0]]\n"
          ],
          "name": "stdout"
        },
        {
          "output_type": "display_data",
          "data": {
            "image/png": "[encoded data removed]",
            "text/plain": [
              "<Figure size 432x288 with 1 Axes>"
            ]
          },
          "metadata": {
            "tags": [],
            "needs_background": "light"
          }
        }
      ]
    },
    {
      "cell_type": "code",
      "metadata": {
        "colab": {
          "base_uri": "https://localhost:8080/",
          "height": 1000
        },
        "id": "U4CV4GcrbAGq",
        "outputId": "63f96824-a6cd-4a9e-edbc-421f53674804"
      },
      "source": [
        "points = [[0.8,9.8,0],[1.2, 11.6,0],[2.8, 9.6,0],[3.8, 9.9,0],[4.4, 6.5,0],[4.8, 1.1,0],[6.0, 19.9,0],[6.2, 18.5,0],[7.6, 17.4,0],[7.8, 12.2,0],[6.6, 7.7,0],[8.2, 4.5,0],[8.4, 6.9,0],[9.0, 3.4,0],[9.6, 11.1,0]]\n",
        "centroids = [[3.8,9.9,0],[7.8,12.2,0],[6.2,18.5,0]]\n",
        "kmeans(points,centroids,10)"
      ],
      "execution_count": null,
      "outputs": [
        {
          "output_type": "stream",
          "text": [
            "Iteration 0\n",
            "For point [0.8, 9.8, 0]and Center[3.8, 9.9, 0]Distance is : 3.0016662039607267\n",
            "For point [0.8, 9.8, 0]and Center[7.8, 12.2, 0]Distance is : 7.3999999999999995\n",
            "For point [0.8, 9.8, 0]and Center[6.2, 18.5, 0]Distance is : 10.239628899525608\n",
            "For point [0.8, 9.8, 0]Center is : 0\n",
            "For point [1.2, 11.6, 0]and Center[3.8, 9.9, 0]Distance is : 3.1064449134018126\n",
            "For point [1.2, 11.6, 0]and Center[7.8, 12.2, 0]Distance is : 6.627216610312356\n",
            "For point [1.2, 11.6, 0]and Center[6.2, 18.5, 0]Distance is : 8.521150157109075\n",
            "For point [1.2, 11.6, 0]Center is : 0\n",
            "For point [2.8, 9.6, 0]and Center[3.8, 9.9, 0]Distance is : 1.0440306508910553\n",
            "For point [2.8, 9.6, 0]and Center[7.8, 12.2, 0]Distance is : 5.635601121442148\n",
            "For point [2.8, 9.6, 0]and Center[6.2, 18.5, 0]Distance is : 9.527329111561121\n",
            "For point [2.8, 9.6, 0]Center is : 0\n",
            "For point [3.8, 9.9, 0]and Center[3.8, 9.9, 0]Distance is : 0.0\n",
            "For point [3.8, 9.9, 0]and Center[7.8, 12.2, 0]Distance is : 4.6141087980237305\n",
            "For point [3.8, 9.9, 0]and Center[6.2, 18.5, 0]Distance is : 8.928605714219886\n",
            "For point [3.8, 9.9, 0]Center is : 0\n",
            "For point [4.4, 6.5, 0]and Center[3.8, 9.9, 0]Distance is : 3.452535300326414\n",
            "For point [4.4, 6.5, 0]and Center[7.8, 12.2, 0]Distance is : 6.637017402418047\n",
            "For point [4.4, 6.5, 0]and Center[6.2, 18.5, 0]Distance is : 12.134249049694011\n",
            "For point [4.4, 6.5, 0]Center is : 0\n",
            "For point [4.8, 1.1, 0]and Center[3.8, 9.9, 0]Distance is : 8.856635930193812\n",
            "For point [4.8, 1.1, 0]and Center[7.8, 12.2, 0]Distance is : 11.49826073804208\n",
            "For point [4.8, 1.1, 0]and Center[6.2, 18.5, 0]Distance is : 17.456230979223434\n",
            "For point [4.8, 1.1, 0]Center is : 0\n",
            "For point [6.0, 19.9, 0]and Center[3.8, 9.9, 0]Distance is : 10.239140588936163\n",
            "For point [6.0, 19.9, 0]and Center[7.8, 12.2, 0]Distance is : 7.907591289387685\n",
            "For point [6.0, 19.9, 1]and Center[6.2, 18.5, 0]Distance is : 1.4142135623730936\n",
            "For point [6.0, 19.9, 2]Center is : 2\n",
            "For point [6.2, 18.5, 0]and Center[3.8, 9.9, 0]Distance is : 8.928605714219886\n",
            "For point [6.2, 18.5, 0]and Center[7.8, 12.2, 0]Distance is : 6.500000000000001\n",
            "For point [6.2, 18.5, 1]and Center[6.2, 18.5, 0]Distance is : 0.0\n",
            "For point [6.2, 18.5, 2]Center is : 2\n",
            "For point [7.6, 17.4, 0]and Center[3.8, 9.9, 0]Distance is : 8.407734534343955\n",
            "For point [7.6, 17.4, 0]and Center[7.8, 12.2, 0]Distance is : 5.203844732503074\n",
            "For point [7.6, 17.4, 1]and Center[6.2, 18.5, 0]Distance is : 1.7804493814764861\n",
            "For point [7.6, 17.4, 2]Center is : 2\n",
            "For point [7.8, 12.2, 0]and Center[3.8, 9.9, 0]Distance is : 4.6141087980237305\n",
            "For point [7.8, 12.2, 0]and Center[7.8, 12.2, 0]Distance is : 0.0\n",
            "For point [7.8, 12.2, 1]and Center[6.2, 18.5, 0]Distance is : 6.500000000000001\n",
            "For point [7.8, 12.2, 1]Center is : 1\n",
            "For point [6.6, 7.7, 0]and Center[3.8, 9.9, 0]Distance is : 3.560898762952971\n",
            "For point [6.6, 7.7, 0]and Center[7.8, 12.2, 0]Distance is : 4.657252408878007\n",
            "For point [6.6, 7.7, 0]and Center[6.2, 18.5, 0]Distance is : 10.807404868885037\n",
            "For point [6.6, 7.7, 0]Center is : 0\n",
            "For point [8.2, 4.5, 0]and Center[3.8, 9.9, 0]Distance is : 6.965629906907199\n",
            "For point [8.2, 4.5, 0]and Center[7.8, 12.2, 0]Distance is : 7.710382610480494\n",
            "For point [8.2, 4.5, 0]and Center[6.2, 18.5, 0]Distance is : 14.142135623730951\n",
            "For point [8.2, 4.5, 0]Center is : 0\n",
            "For point [8.4, 6.9, 0]and Center[3.8, 9.9, 0]Distance is : 5.491812087098393\n",
            "For point [8.4, 6.9, 0]and Center[7.8, 12.2, 0]Distance is : 5.3338541412378335\n",
            "For point [8.4, 6.9, 1]and Center[6.2, 18.5, 0]Distance is : 11.806777714516354\n",
            "For point [8.4, 6.9, 1]Center is : 1\n",
            "For point [9.0, 3.4, 0]and Center[3.8, 9.9, 0]Distance is : 8.324061508662703\n",
            "For point [9.0, 3.4, 0]and Center[7.8, 12.2, 0]Distance is : 8.881441324469806\n",
            "For point [9.0, 3.4, 0]and Center[6.2, 18.5, 0]Distance is : 15.357408635573906\n",
            "For point [9.0, 3.4, 0]Center is : 0\n",
            "For point [9.6, 11.1, 0]and Center[3.8, 9.9, 0]Distance is : 5.922837157984339\n",
            "For point [9.6, 11.1, 0]and Center[7.8, 12.2, 0]Distance is : 2.109502310972898\n",
            "For point [9.6, 11.1, 1]and Center[6.2, 18.5, 0]Distance is : 8.143709228600933\n",
            "For point [9.6, 11.1, 1]Center is : 1\n",
            "New Centroids in 1 are :\n",
            "[[4.622222222222222, 7.122222222222224, 0], [8.6, 10.066666666666668, 0], [6.599999999999999, 18.599999999999998, 0]]\n"
          ],
          "name": "stdout"
        },
        {
          "output_type": "display_data",
          "data": {
            "image/png": "[encoded data removed]",
            "text/plain": [
              "<Figure size 432x288 with 1 Axes>"
            ]
          },
          "metadata": {
            "tags": [],
            "needs_background": "light"
          }
        },
        {
          "output_type": "stream",
          "text": [
            "Iteration 1\n",
            "For point [0.8, 9.8, 0]and Center[4.622222222222222, 7.122222222222224, 0]Distance is : 4.666891528974063\n",
            "For point [0.8, 9.8, 0]and Center[8.6, 10.066666666666668, 0]Distance is : 7.804557073345745\n",
            "For point [0.8, 9.8, 0]and Center[6.599999999999999, 18.599999999999998, 0]Distance is : 10.539449701004315\n",
            "For point [0.8, 9.8, 0]Center is : 0\n",
            "For point [1.2, 11.6, 0]and Center[4.622222222222222, 7.122222222222224, 0]Distance is : 5.635787324361352\n",
            "For point [1.2, 11.6, 0]and Center[8.6, 10.066666666666668, 0]Distance is : 7.557189365836422\n",
            "For point [1.2, 11.6, 0]and Center[6.599999999999999, 18.599999999999998, 0]Distance is : 8.840814442120136\n",
            "For point [1.2, 11.6, 0]Center is : 0\n",
            "For point [2.8, 9.6, 0]and Center[4.622222222222222, 7.122222222222224, 0]Distance is : 3.075691230148089\n",
            "For point [2.8, 9.6, 0]and Center[8.6, 10.066666666666668, 0]Distance is : 5.818743659741145\n",
            "For point [2.8, 9.6, 0]and Center[6.599999999999999, 18.599999999999998, 0]Distance is : 9.769339793455849\n",
            "For point [2.8, 9.6, 0]Center is : 0\n",
            "For point [3.8, 9.9, 0]and Center[4.622222222222222, 7.122222222222224, 0]Distance is : 2.8969119360850604\n",
            "For point [3.8, 9.9, 0]and Center[8.6, 10.066666666666668, 0]Distance is : 4.802892646913709\n",
            "For point [3.8, 9.9, 0]and Center[6.599999999999999, 18.599999999999998, 0]Distance is : 9.139474820797963\n",
            "For point [3.8, 9.9, 0]Center is : 0\n",
            "For point [4.4, 6.5, 0]and Center[4.622222222222222, 7.122222222222224, 0]Distance is : 0.6607141665474902\n",
            "For point [4.4, 6.5, 0]and Center[8.6, 10.066666666666668, 0]Distance is : 5.510091751605513\n",
            "For point [4.4, 6.5, 0]and Center[6.599999999999999, 18.599999999999998, 0]Distance is : 12.29837387624884\n",
            "For point [4.4, 6.5, 0]Center is : 0\n",
            "For point [4.8, 1.1, 0]and Center[4.622222222222222, 7.122222222222224, 0]Distance is : 6.024845677035951\n",
            "For point [4.8, 1.1, 0]and Center[8.6, 10.066666666666668, 0]Distance is : 9.738640105841839\n",
            "For point [4.8, 1.1, 0]and Center[6.599999999999999, 18.599999999999998, 0]Distance is : 17.592327873252017\n",
            "For point [4.8, 1.1, 0]Center is : 0\n",
            "For point [6.0, 19.9, 2]and Center[4.622222222222222, 7.122222222222224, 0]Distance is : 12.851843313050848\n",
            "For point [6.0, 19.9, 0]and Center[8.6, 10.066666666666668, 0]Distance is : 10.171255794858586\n",
            "For point [6.0, 19.9, 1]and Center[6.599999999999999, 18.599999999999998, 0]Distance is : 1.4317821063276355\n",
            "For point [6.0, 19.9, 2]Center is : 2\n",
            "For point [6.2, 18.5, 2]and Center[4.622222222222222, 7.122222222222224, 0]Distance is : 11.486653554301322\n",
            "For point [6.2, 18.5, 0]and Center[8.6, 10.066666666666668, 0]Distance is : 8.768187447306945\n",
            "For point [6.2, 18.5, 1]and Center[6.599999999999999, 18.599999999999998, 0]Distance is : 0.4123105625617641\n",
            "For point [6.2, 18.5, 2]Center is : 2\n",
            "For point [7.6, 17.4, 2]and Center[4.622222222222222, 7.122222222222224, 0]Distance is : 10.700461510757833\n",
            "For point [7.6, 17.4, 0]and Center[8.6, 10.066666666666668, 0]Distance is : 7.401201103724836\n",
            "For point [7.6, 17.4, 1]and Center[6.599999999999999, 18.599999999999998, 0]Distance is : 1.562049935181331\n",
            "For point [7.6, 17.4, 2]Center is : 2\n",
            "For point [7.8, 12.2, 1]and Center[4.622222222222222, 7.122222222222224, 0]Distance is : 5.990166839532274\n",
            "For point [7.8, 12.2, 0]and Center[8.6, 10.066666666666668, 0]Distance is : 2.2784009987513394\n",
            "For point [7.8, 12.2, 1]and Center[6.599999999999999, 18.599999999999998, 0]Distance is : 6.511528238439881\n",
            "For point [7.8, 12.2, 1]Center is : 1\n",
            "For point [6.6, 7.7, 0]and Center[4.622222222222222, 7.122222222222224, 0]Distance is : 2.0604446361806064\n",
            "For point [6.6, 7.7, 0]and Center[8.6, 10.066666666666668, 0]Distance is : 3.098565976562564\n",
            "For point [6.6, 7.7, 0]and Center[6.599999999999999, 18.599999999999998, 0]Distance is : 10.899999999999999\n",
            "For point [6.6, 7.7, 0]Center is : 0\n",
            "For point [8.2, 4.5, 0]and Center[4.622222222222222, 7.122222222222224, 0]Distance is : 4.4358249751175425\n",
            "For point [8.2, 4.5, 0]and Center[8.6, 10.066666666666668, 0]Distance is : 5.581019421017794\n",
            "For point [8.2, 4.5, 0]and Center[6.599999999999999, 18.599999999999998, 0]Distance is : 14.190489773083941\n",
            "For point [8.2, 4.5, 0]Center is : 0\n",
            "For point [8.4, 6.9, 1]and Center[4.622222222222222, 7.122222222222224, 0]Distance is : 3.7843080813169787\n",
            "For point [8.4, 6.9, 0]and Center[8.6, 10.066666666666668, 0]Distance is : 3.1729761703766046\n",
            "For point [8.4, 6.9, 1]and Center[6.599999999999999, 18.599999999999998, 0]Distance is : 11.837651794169313\n",
            "For point [8.4, 6.9, 1]Center is : 1\n",
            "For point [9.0, 3.4, 0]and Center[4.622222222222222, 7.122222222222224, 0]Distance is : 5.746292417133842\n",
            "For point [9.0, 3.4, 0]and Center[8.6, 10.066666666666668, 0]Distance is : 6.678655886063038\n",
            "For point [9.0, 3.4, 0]and Center[6.599999999999999, 18.599999999999998, 0]Distance is : 15.388307249337075\n",
            "For point [9.0, 3.4, 0]Center is : 0\n",
            "For point [9.6, 11.1, 1]and Center[4.622222222222222, 7.122222222222224, 0]Distance is : 6.371890430187966\n",
            "For point [9.6, 11.1, 0]and Center[8.6, 10.066666666666668, 0]Distance is : 1.4379769740081982\n",
            "For point [9.6, 11.1, 1]and Center[6.599999999999999, 18.599999999999998, 0]Distance is : 8.077747210701755\n",
            "For point [9.6, 11.1, 1]Center is : 1\n",
            "New Centroids in 2 are :\n",
            "[[4.622222222222222, 7.122222222222224, 0], [8.6, 10.066666666666668, 0], [6.599999999999999, 18.599999999999998, 0]]\n"
          ],
          "name": "stdout"
        },
        {
          "output_type": "display_data",
          "data": {
            "image/png": "[encoded data removed]",
            "text/plain": [
              "<Figure size 432x288 with 1 Axes>"
            ]
          },
          "metadata": {
            "tags": [],
            "needs_background": "light"
          }
        }
      ]
    }
  ]
}