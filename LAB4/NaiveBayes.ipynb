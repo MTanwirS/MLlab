{
  "nbformat": 4,
  "nbformat_minor": 0,
  "metadata": {
    "colab": {
      "name": "ML.ipynb",
      "provenance": []
    },
    "kernelspec": {
      "name": "python3",
      "display_name": "Python 3"
    },
    "language_info": {
      "name": "python"
    }
  },
  "cells": [
    {
      "cell_type": "code",
      "metadata": {
        "colab": {
          "base_uri": "https://localhost:8080/"
        },
        "id": "8ibj3MMrZK__",
        "outputId": "aa95ea3b-c3e5-4303-fe55-a0edf20c43c4"
      },
      "source": [
        "import pandas as pd\n",
        "from sklearn.model_selection import train_test_split\n",
        "from sklearn.naive_bayes import GaussianNB\n",
        "from sklearn import metrics\n",
        "\n",
        "df = pd.read_csv(\"pima_indian.csv\")\n",
        "feature_col_names = ['num_preg', 'glucose_conc', 'diastolic_bp', 'thickness', 'insulin', 'bmi', 'diab_pred', 'age']\n",
        "predicted_class_names = ['diabetes']\n",
        "\n",
        "X = df[feature_col_names].values \n",
        "y = df[predicted_class_names].values\n",
        "\n",
        "print(df.head)\n",
        "xtrain,xtest,ytrain,ytest=train_test_split(X,y,test_size=0.33)\n",
        "\n",
        "print ('\\n the total number of Training Data :',ytrain.shape)\n",
        "print ('\\n the total number of Test Data :',ytest.shape)\n",
        "\n",
        "clf = GaussianNB().fit(xtrain,ytrain.ravel())\n",
        "predicted = clf.predict(xtest)\n",
        "predictTestData= clf.predict([[6,148,72,35,0,33.6,0.627,50]])\n",
        "\n",
        "print('\\n Confusion matrix')\n",
        "print(metrics.confusion_matrix(ytest,predicted))\n",
        "\n",
        "print('\\n Accuracy of the classifier is',metrics.accuracy_score(ytest,predicted))\n",
        "\n",
        "print('\\n The value of Precision', metrics.precision_score(ytest,predicted))\n",
        "\n",
        "print('\\n The value of Recall', metrics.recall_score(ytest,predicted))\n",
        "\n",
        "print(\"Predicted Value for individual Test Data:\", predictTestData)\n",
        "\n"
      ],
      "execution_count": 5,
      "outputs": [
        {
          "output_type": "stream",
          "text": [
            "<bound method NDFrame.head of      num_preg  glucose_conc  diastolic_bp  ...  diab_pred  age  diabetes\n",
            "0           6           148            72  ...      0.627   50         1\n",
            "1           1            85            66  ...      0.351   31         0\n",
            "2           8           183            64  ...      0.672   32         1\n",
            "3           1            89            66  ...      0.167   21         0\n",
            "4           0           137            40  ...      2.288   33         1\n",
            "..        ...           ...           ...  ...        ...  ...       ...\n",
            "763        10           101            76  ...      0.171   63         0\n",
            "764         2           122            70  ...      0.340   27         0\n",
            "765         5           121            72  ...      0.245   30         0\n",
            "766         1           126            60  ...      0.349   47         1\n",
            "767         1            93            70  ...      0.315   23         0\n",
            "\n",
            "[768 rows x 9 columns]>\n",
            "\n",
            " the total number of Training Data : (514, 1)\n",
            "\n",
            " the total number of Test Data : (254, 1)\n",
            "\n",
            " Confusion matrix\n",
            "[[136  32]\n",
            " [ 31  55]]\n",
            "\n",
            " Accuracy of the classifier is 0.7519685039370079\n",
            "\n",
            " The value of Precision 0.632183908045977\n",
            "\n",
            " The value of Recall 0.6395348837209303\n",
            "Predicted Value for individual Test Data: [1]\n"
          ],
          "name": "stdout"
        }
      ]
    }
  ]
}